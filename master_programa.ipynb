{
  "nbformat": 4,
  "nbformat_minor": 0,
  "metadata": {
    "colab": {
      "provenance": [],
      "authorship_tag": "ABX9TyPFi1ESqsfQgykdqWB6Cdi4",
      "include_colab_link": true
    },
    "kernelspec": {
      "name": "python3",
      "display_name": "Python 3"
    },
    "language_info": {
      "name": "python"
    }
  },
  "cells": [
    {
      "cell_type": "markdown",
      "metadata": {
        "id": "view-in-github",
        "colab_type": "text"
      },
      "source": [
        "<a href=\"https://colab.research.google.com/github/GustavoBatistaB/master_programa/blob/main/master_programa.ipynb\" target=\"_parent\"><img src=\"https://colab.research.google.com/assets/colab-badge.svg\" alt=\"Open In Colab\"/></a>"
      ]
    },
    {
      "cell_type": "code",
      "execution_count": null,
      "metadata": {
        "id": "RzRO6Hgn6Dkn"
      },
      "outputs": [],
      "source": [
        "def mostrar_items(mostrar, programa):\n",
        "  for item in mostrar:\n",
        "    \n",
        "    if programa == 1: \n",
        "      print(f\"Modelo: {item} \\nAno: {mostrar[item][0]} \\nPreço: {mostrar[item][1]} ao dia \\nCor: {mostrar[item][2]}\\n-----------------\")\n",
        "    else: \n",
        "      print(f\"Sabor: {item} \\nIngredientes: \\n--- {mostrar[item][0]} \\n--- {mostrar[item][1]}\\n--- {mostrar[item][2]}\\n-----------------\")\n",
        "\n",
        "def programa_aluguel_veiculo(programa):\n",
        "\n",
        "  alugado = {\"Escort\": [1983, 99.48, \"Verde\"]}    \n",
        "  veiculo = {\n",
        "        \"Gol\": [1998, 105.54, \"Prata\"],\n",
        "        \"Palio\": [1997, 325.23, \"Preto\"],\n",
        "        \"Uno\": [2002, 202.33, \"Azul\"], \n",
        "        }\n",
        "\n",
        "  loop = True\n",
        "\n",
        "  while loop:      \n",
        "    print(\"Carros disponiveis para alugar:\")      \n",
        "    mostrar_items(veiculo, programa)\n",
        "    modelo_carro = input(\"Digite o modelo do carro: \")\n",
        "    modelo_carro = modelo_carro.capitalize()\n",
        "    if modelo_carro in veiculo.keys():\n",
        "      \n",
        "      print(f\"Modelo: {modelo_carro} \\nAno: {veiculo[modelo_carro][0]} \\nPreço: {veiculo[modelo_carro][1]} ao dia \\nCor: {veiculo[modelo_carro][2]}\\n -----------------\") \n",
        "      \n",
        "      alugar = input (\"Deseja alugar esse carro? [S/N]\")\n",
        "      alugar = alugar.upper()\n",
        "      if alugar == \"S\":\n",
        "        alug = veiculo.pop(modelo_carro)\n",
        "        alugado[modelo_carro] = alug \n",
        "        print(\"Segue abaixo uma lista dos nossos carros alugados \")  \n",
        "        mostrar_items(alugado, programa)\n",
        "        loop = False\n",
        "    else:   \n",
        "        print(\"Não temos esse carro disponivel\")\n",
        "        condi = input(\"Deseja alugar um carro? [S/N]\")\n",
        "        condi = condi.upper()\n",
        "        if condi != \"S\":      \n",
        "          loop = False \n",
        "  else: \n",
        "    print(\"Obrigado pela a preferencia \")\n",
        "\n",
        "\n",
        "def pizzaria(programa):\n",
        "  ingredientes = {\"Brocolis\": 3.00, \n",
        "                  \"Barcon\": 6.88, \n",
        "                  \"Calabresa\": 8.87,\n",
        "                  \"Azeitona\": 3.33,\n",
        "                  \"Mussarela\": 5.77,}\n",
        "  pizza = {\"Calamussa\": (\"Calabresa\", \"Mussarela\", \"Azeitona\"), \n",
        "           \"Barcon\": (\"Barcon\", \"Mussarela\", \"Azeitona\" )} \n",
        "  mostrar_items(pizza, programa)          \n",
        "  nome_pizza = input(\"Digite o nome da pizza: \") \n",
        "  nome_pizza = nome_pizza.capitalize()                         \n",
        "  valor = 0\n",
        "  if nome_pizza in pizza: \n",
        "    index = len(pizza[nome_pizza])    \n",
        "    for n in range(index):\n",
        "      nome_ingre = pizza[nome_pizza][n]\n",
        "      valor += ingredientes[nome_ingre]\n",
        "    print(f\"O valor da sua pizza deu {valor * 1.30:,.2f} R$\")  \n",
        "  else: \n",
        "    print(\"Me descupe! Não temos essa Pizza no cardápio \")    \n",
        "  \n",
        "\n",
        "print(\"----------------------------------------------------------------------\")\n",
        "\n",
        "print(\"-------------------------- Master Programa ---------------------------\")\n",
        "\n",
        "print(\"----------------------------------------------------------------------\")\n",
        "\n",
        "print(\" 1 - Aluguel de carro \\n 2 - Valor da Pizza \")\n",
        "\n",
        "programa = int(input(\"Digite um numero para executar o programa: \"))\n",
        "\n",
        "if programa == 1: \n",
        "  programa_aluguel_veiculo(programa)\n",
        "elif programa == 2: \n",
        "  pizzaria(programa)\n",
        "else: \n",
        "  print(\" Opção invalida\")  \n",
        "\n"
      ]
    }
  ]
}